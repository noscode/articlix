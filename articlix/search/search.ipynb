{
 "cells": [
  {
   "cell_type": "code",
   "execution_count": 1,
   "metadata": {},
   "outputs": [],
   "source": [
    "import sys\n",
    "import ujson\n",
    "import numpy as np\n",
    "import pandas as pd\n",
    "\n",
    "sys.path.append(\"../..\")\n",
    "from search import Articlix\n",
    "%reload_ext autoreload\n",
    "%autoreload 1\n",
    "%aimport search"
   ]
  },
  {
   "cell_type": "code",
   "execution_count": 2,
   "metadata": {},
   "outputs": [
    {
     "name": "stdout",
     "output_type": "stream",
     "text": [
      "CPU times: user 30.3 s, sys: 12.6 s, total: 42.9 s\n",
      "Wall time: 50.2 s\n"
     ]
    }
   ],
   "source": [
    "%time df = pd.read_hdf('../../data/clean_articles.h5')"
   ]
  },
  {
   "cell_type": "code",
   "execution_count": 3,
   "metadata": {},
   "outputs": [
    {
     "name": "stdout",
     "output_type": "stream",
     "text": [
      "CPU times: user 10.5 s, sys: 1.87 s, total: 12.3 s\n",
      "Wall time: 13.3 s\n"
     ]
    }
   ],
   "source": [
    "%time ix = ujson.load(open('../../data/index.json', 'r'))"
   ]
  },
  {
   "cell_type": "markdown",
   "metadata": {},
   "source": [
    "## simple"
   ]
  },
  {
   "cell_type": "code",
   "execution_count": 4,
   "metadata": {},
   "outputs": [
    {
     "name": "stdout",
     "output_type": "stream",
     "text": [
      "CPU times: user 178 ms, sys: 9.81 ms, total: 188 ms\n",
      "Wall time: 194 ms\n"
     ]
    },
    {
     "data": {
      "text/plain": [
       "500"
      ]
     },
     "execution_count": 4,
     "metadata": {},
     "output_type": "execute_result"
    }
   ],
   "source": [
    "ss = Articlix(df, ix)\n",
    "%time len(ss.find('machine learning', topn=500, add_scores=False))"
   ]
  },
  {
   "cell_type": "markdown",
   "metadata": {},
   "source": [
    "## spellcheck"
   ]
  },
  {
   "cell_type": "code",
   "execution_count": 5,
   "metadata": {},
   "outputs": [
    {
     "data": {
      "text/plain": [
       "['Interview with virtual reality pioneer Philip Rosedale, founder of Second Life',\n",
       " 'The Principles Of Life That Everyone Knows, But Only A Few Follow',\n",
       " 'Rules For Traveling Down the Road of Life',\n",
       " 'Second Life Targets Existing Branded Web Communities',\n",
       " 'Are you Satisfied?']"
      ]
     },
     "execution_count": 5,
     "metadata": {},
     "output_type": "execute_result"
    }
   ],
   "source": [
    "ss = Articlix(df, ix, spellcheck=False)\n",
    "ss.find('meserable life').title.tolist()"
   ]
  },
  {
   "cell_type": "code",
   "execution_count": 6,
   "metadata": {},
   "outputs": [
    {
     "data": {
      "text/plain": [
       "['No-One Gives a Shit About Your Blog',\n",
       " 'Making Kanban Work For You',\n",
       " 'The Truth About Employee Engagement',\n",
       " 'Similarities between the film and video game industries',\n",
       " 'Dear Corporates: A quarter of a million of your workforce are escaping…']"
      ]
     },
     "execution_count": 6,
     "metadata": {},
     "output_type": "execute_result"
    }
   ],
   "source": [
    "ss = Articlix(df, ix, spellcheck=True)\n",
    "ss.find('meserable life').title.tolist()  # -> miserable life"
   ]
  }
 ],
 "metadata": {
  "kernelspec": {
   "display_name": "Python 3",
   "language": "python",
   "name": "python3"
  },
  "language_info": {
   "codemirror_mode": {
    "name": "ipython",
    "version": 3
   },
   "file_extension": ".py",
   "mimetype": "text/x-python",
   "name": "python",
   "nbconvert_exporter": "python",
   "pygments_lexer": "ipython3",
   "version": "3.6.2"
  }
 },
 "nbformat": 4,
 "nbformat_minor": 2
}
