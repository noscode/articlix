{
 "cells": [
  {
   "cell_type": "code",
   "execution_count": 1,
   "metadata": {},
   "outputs": [],
   "source": [
    "import numpy as np\n",
    "import pandas as pd\n",
    "import multiprocessing as mp\n",
    "\n",
    "from tqdm import tqdm\n",
    "from index import get_tokens"
   ]
  },
  {
   "cell_type": "code",
   "execution_count": 2,
   "metadata": {},
   "outputs": [],
   "source": [
    "df = pd.read_hdf('../../data/clean_articles.h5')"
   ]
  },
  {
   "cell_type": "code",
   "execution_count": 3,
   "metadata": {},
   "outputs": [
    {
     "data": {
      "text/plain": [
       "fetch_date        datetime64[ns]\n",
       "url                       object\n",
       "title                     object\n",
       "ttitle_len                 int64\n",
       "content                   object\n",
       "tcontent_len               int64\n",
       "author                    object\n",
       "published_date    datetime64[ns]\n",
       "publisher                 object\n",
       "estimate_time              int64\n",
       "likes                      int64\n",
       "tags                      object\n",
       "comments                   int64\n",
       "dtype: object"
      ]
     },
     "execution_count": 3,
     "metadata": {},
     "output_type": "execute_result"
    }
   ],
   "source": [
    "df.dtypes"
   ]
  },
  {
   "cell_type": "code",
   "execution_count": 30,
   "metadata": {},
   "outputs": [
    {
     "data": {
      "text/plain": [
       "10000"
      ]
     },
     "execution_count": 30,
     "metadata": {},
     "output_type": "execute_result"
    }
   ],
   "source": [
    "len(df)"
   ]
  },
  {
   "cell_type": "code",
   "execution_count": 28,
   "metadata": {},
   "outputs": [],
   "source": [
    "df = df.rename(columns={'content_len': 'tcontent_len'})"
   ]
  },
  {
   "cell_type": "code",
   "execution_count": 5,
   "metadata": {},
   "outputs": [
    {
     "name": "stderr",
     "output_type": "stream",
     "text": [
      "100%|██████████| 10000/10000 [00:04<00:00, 2346.03it/s]\n"
     ]
    }
   ],
   "source": [
    "tokened_titles_len = []\n",
    "for s in tqdm(df.title):\n",
    "    tokened_titles_len.append(len(get_tokens(s)))"
   ]
  },
  {
   "cell_type": "code",
   "execution_count": 6,
   "metadata": {},
   "outputs": [],
   "source": [
    "df.ttitle_len = tokened_titles_len"
   ]
  },
  {
   "cell_type": "code",
   "execution_count": 13,
   "metadata": {},
   "outputs": [
    {
     "data": {
      "text/plain": [
       "[15, 3, 9, 8]"
      ]
     },
     "execution_count": 13,
     "metadata": {},
     "output_type": "execute_result"
    }
   ],
   "source": [
    "tokened_titles_len[:4]"
   ]
  },
  {
   "cell_type": "code",
   "execution_count": null,
   "metadata": {},
   "outputs": [],
   "source": [
    "content_len = []\n",
    "for s in tqdm(df.content):\n",
    "    content_len.append(len(get_tokens(s)))"
   ]
  },
  {
   "cell_type": "code",
   "execution_count": 7,
   "metadata": {},
   "outputs": [],
   "source": [
    "def worker(s):\n",
    "    return len(get_tokens(s))\n",
    "\n",
    "content_len = None\n",
    "with mp.Pool(processes=16) as pool:\n",
    "    content_len = pool.map(worker, df.content.tolist())"
   ]
  },
  {
   "cell_type": "code",
   "execution_count": 8,
   "metadata": {},
   "outputs": [],
   "source": [
    "df.tcontent_len = content_len"
   ]
  },
  {
   "cell_type": "code",
   "execution_count": 23,
   "metadata": {},
   "outputs": [],
   "source": [
    "df.insert(5, 'content_len', content_len)"
   ]
  },
  {
   "cell_type": "code",
   "execution_count": 14,
   "metadata": {},
   "outputs": [],
   "source": [
    "df.insert(3, \"tokened_titles_len\", tokened_titles_len)"
   ]
  },
  {
   "cell_type": "code",
   "execution_count": 19,
   "metadata": {},
   "outputs": [
    {
     "data": {
      "text/plain": [
       "False"
      ]
     },
     "execution_count": 19,
     "metadata": {},
     "output_type": "execute_result"
    }
   ],
   "source": [
    "df.isnull().values.any()"
   ]
  },
  {
   "cell_type": "code",
   "execution_count": 20,
   "metadata": {},
   "outputs": [
    {
     "data": {
      "text/html": [
       "<div>\n",
       "<style scoped>\n",
       "    .dataframe tbody tr th:only-of-type {\n",
       "        vertical-align: middle;\n",
       "    }\n",
       "\n",
       "    .dataframe tbody tr th {\n",
       "        vertical-align: top;\n",
       "    }\n",
       "\n",
       "    .dataframe thead th {\n",
       "        text-align: right;\n",
       "    }\n",
       "</style>\n",
       "<table border=\"1\" class=\"dataframe\">\n",
       "  <thead>\n",
       "    <tr style=\"text-align: right;\">\n",
       "      <th></th>\n",
       "      <th>fetch_date</th>\n",
       "      <th>url</th>\n",
       "      <th>title</th>\n",
       "      <th>content</th>\n",
       "      <th>author</th>\n",
       "      <th>published_date</th>\n",
       "      <th>publisher</th>\n",
       "      <th>estimate_time</th>\n",
       "      <th>likes</th>\n",
       "      <th>tags</th>\n",
       "      <th>comments</th>\n",
       "    </tr>\n",
       "  </thead>\n",
       "  <tbody>\n",
       "    <tr>\n",
       "      <th>0</th>\n",
       "      <td>2017-11-23 03:32:02</td>\n",
       "      <td>https://medium.com/@cnizzardini/linux-search-f...</td>\n",
       "      <td>Linux Search From Shell Using Grep Find Xargs</td>\n",
       "      <td>The find command is used to find files in a Un...</td>\n",
       "      <td>Chris</td>\n",
       "      <td>2007-06-04 18:37:45.000</td>\n",
       "      <td>medium</td>\n",
       "      <td>0</td>\n",
       "      <td>0</td>\n",
       "      <td>linux find grep xargs</td>\n",
       "      <td>0</td>\n",
       "    </tr>\n",
       "    <tr>\n",
       "      <th>1</th>\n",
       "      <td>2017-11-23 03:32:02</td>\n",
       "      <td>https://medium.com/nome-do-jogo/adeus-windows-...</td>\n",
       "      <td>Adeus Windows</td>\n",
       "      <td>Comecei minha carreira profissional com o Visu...</td>\n",
       "      <td>Carlos Brando</td>\n",
       "      <td>2007-10-01 00:00:00.000</td>\n",
       "      <td>medium</td>\n",
       "      <td>120</td>\n",
       "      <td>3</td>\n",
       "      <td>windows ubuntu linux</td>\n",
       "      <td>0</td>\n",
       "    </tr>\n",
       "    <tr>\n",
       "      <th>2</th>\n",
       "      <td>2017-11-23 03:32:02</td>\n",
       "      <td>https://medium.com/security-thinking-cap/802-1...</td>\n",
       "      <td>802.11n Wireless-N devices</td>\n",
       "      <td>It is not out. Dlink and Netgear have some 802...</td>\n",
       "      <td>Eric Vanderburg</td>\n",
       "      <td>2006-05-02 22:09:57.000</td>\n",
       "      <td>medium</td>\n",
       "      <td>0</td>\n",
       "      <td>0</td>\n",
       "      <td>dlink netgear wifi wireless</td>\n",
       "      <td>0</td>\n",
       "    </tr>\n",
       "    <tr>\n",
       "      <th>3</th>\n",
       "      <td>2017-11-23 03:32:03</td>\n",
       "      <td>https://medium.com/@akwhitney/mathochism-the-j...</td>\n",
       "      <td>Mathochism: The joys of MOOCulus</td>\n",
       "      <td>One woman’s attempt to revisit the math that p...</td>\n",
       "      <td>AK Whitney</td>\n",
       "      <td>2016-02-01 22:09:57.203</td>\n",
       "      <td>medium</td>\n",
       "      <td>240</td>\n",
       "      <td>1</td>\n",
       "      <td>education mathematics calculus</td>\n",
       "      <td>0</td>\n",
       "    </tr>\n",
       "    <tr>\n",
       "      <th>4</th>\n",
       "      <td>2017-11-23 03:32:03</td>\n",
       "      <td>https://medium.com/@brianmmcguire/meditation-o...</td>\n",
       "      <td>Meditation on Calculus, Emptiness, and The Res...</td>\n",
       "      <td>Perugino (Pietro di Cristoforo Vannucci) (Ital...</td>\n",
       "      <td>Brian M. McGuire</td>\n",
       "      <td>2016-03-27 19:25:25.005</td>\n",
       "      <td>medium</td>\n",
       "      <td>180</td>\n",
       "      <td>2</td>\n",
       "      <td>easter calculus meditation</td>\n",
       "      <td>0</td>\n",
       "    </tr>\n",
       "  </tbody>\n",
       "</table>\n",
       "</div>"
      ],
      "text/plain": [
       "           fetch_date                                                url  \\\n",
       "0 2017-11-23 03:32:02  https://medium.com/@cnizzardini/linux-search-f...   \n",
       "1 2017-11-23 03:32:02  https://medium.com/nome-do-jogo/adeus-windows-...   \n",
       "2 2017-11-23 03:32:02  https://medium.com/security-thinking-cap/802-1...   \n",
       "3 2017-11-23 03:32:03  https://medium.com/@akwhitney/mathochism-the-j...   \n",
       "4 2017-11-23 03:32:03  https://medium.com/@brianmmcguire/meditation-o...   \n",
       "\n",
       "                                               title  \\\n",
       "0      Linux Search From Shell Using Grep Find Xargs   \n",
       "1                                      Adeus Windows   \n",
       "2                         802.11n Wireless-N devices   \n",
       "3                   Mathochism: The joys of MOOCulus   \n",
       "4  Meditation on Calculus, Emptiness, and The Res...   \n",
       "\n",
       "                                             content            author  \\\n",
       "0  The find command is used to find files in a Un...             Chris   \n",
       "1  Comecei minha carreira profissional com o Visu...     Carlos Brando   \n",
       "2  It is not out. Dlink and Netgear have some 802...   Eric Vanderburg   \n",
       "3  One woman’s attempt to revisit the math that p...        AK Whitney   \n",
       "4  Perugino (Pietro di Cristoforo Vannucci) (Ital...  Brian M. McGuire   \n",
       "\n",
       "           published_date publisher  estimate_time  likes  \\\n",
       "0 2007-06-04 18:37:45.000    medium              0      0   \n",
       "1 2007-10-01 00:00:00.000    medium            120      3   \n",
       "2 2006-05-02 22:09:57.000    medium              0      0   \n",
       "3 2016-02-01 22:09:57.203    medium            240      1   \n",
       "4 2016-03-27 19:25:25.005    medium            180      2   \n",
       "\n",
       "                             tags  comments  \n",
       "0           linux find grep xargs         0  \n",
       "1            windows ubuntu linux         0  \n",
       "2     dlink netgear wifi wireless         0  \n",
       "3  education mathematics calculus         0  \n",
       "4      easter calculus meditation         0  "
      ]
     },
     "execution_count": 20,
     "metadata": {},
     "output_type": "execute_result"
    }
   ],
   "source": [
    "df.head()"
   ]
  },
  {
   "cell_type": "code",
   "execution_count": 13,
   "metadata": {},
   "outputs": [
    {
     "data": {
      "text/plain": [
       "935    NaN\n",
       "Name: content, dtype: object"
      ]
     },
     "execution_count": 13,
     "metadata": {},
     "output_type": "execute_result"
    }
   ],
   "source": [
    "df.content[df.content.isnull()]"
   ]
  },
  {
   "cell_type": "code",
   "execution_count": 14,
   "metadata": {},
   "outputs": [],
   "source": [
    "df.content = df.content.fillna('')"
   ]
  },
  {
   "cell_type": "code",
   "execution_count": 2,
   "metadata": {},
   "outputs": [],
   "source": [
    "df = pd.read_csv('../../data/articles.csv')"
   ]
  },
  {
   "cell_type": "code",
   "execution_count": 77,
   "metadata": {},
   "outputs": [
    {
     "data": {
      "text/html": [
       "<div>\n",
       "<style scoped>\n",
       "    .dataframe tbody tr th:only-of-type {\n",
       "        vertical-align: middle;\n",
       "    }\n",
       "\n",
       "    .dataframe tbody tr th {\n",
       "        vertical-align: top;\n",
       "    }\n",
       "\n",
       "    .dataframe thead th {\n",
       "        text-align: right;\n",
       "    }\n",
       "</style>\n",
       "<table border=\"1\" class=\"dataframe\">\n",
       "  <thead>\n",
       "    <tr style=\"text-align: right;\">\n",
       "      <th></th>\n",
       "      <th>fetch_date</th>\n",
       "      <th>url</th>\n",
       "      <th>title</th>\n",
       "      <th>content</th>\n",
       "      <th>author</th>\n",
       "      <th>published_date</th>\n",
       "      <th>publisher</th>\n",
       "      <th>estimate_time</th>\n",
       "      <th>likes</th>\n",
       "      <th>tags</th>\n",
       "      <th>comments</th>\n",
       "    </tr>\n",
       "  </thead>\n",
       "  <tbody>\n",
       "    <tr>\n",
       "      <th>0</th>\n",
       "      <td>2017-11-23 03:32:02</td>\n",
       "      <td>https://medium.com/@cnizzardini/linux-search-f...</td>\n",
       "      <td>Linux Search From Shell Using Grep Find Xargs</td>\n",
       "      <td>The find command is used to find files in a Un...</td>\n",
       "      <td>Chris</td>\n",
       "      <td>2007-06-04 18:37:45.000</td>\n",
       "      <td>medium</td>\n",
       "      <td>0</td>\n",
       "      <td>0</td>\n",
       "      <td>linux find grep xargs</td>\n",
       "      <td>0</td>\n",
       "    </tr>\n",
       "    <tr>\n",
       "      <th>1</th>\n",
       "      <td>2017-11-23 03:32:02</td>\n",
       "      <td>https://medium.com/nome-do-jogo/adeus-windows-...</td>\n",
       "      <td>Adeus Windows</td>\n",
       "      <td>Comecei minha carreira profissional com o Visu...</td>\n",
       "      <td>Carlos Brando</td>\n",
       "      <td>2007-10-01 00:00:00.000</td>\n",
       "      <td>medium</td>\n",
       "      <td>120</td>\n",
       "      <td>3</td>\n",
       "      <td>windows ubuntu linux</td>\n",
       "      <td>0</td>\n",
       "    </tr>\n",
       "    <tr>\n",
       "      <th>2</th>\n",
       "      <td>2017-11-23 03:32:02</td>\n",
       "      <td>https://medium.com/security-thinking-cap/802-1...</td>\n",
       "      <td>802.11n Wireless-N devices</td>\n",
       "      <td>It is not out. Dlink and Netgear have some 802...</td>\n",
       "      <td>Eric Vanderburg</td>\n",
       "      <td>2006-05-02 22:09:57.000</td>\n",
       "      <td>medium</td>\n",
       "      <td>0</td>\n",
       "      <td>0</td>\n",
       "      <td>dlink netgear wifi wireless</td>\n",
       "      <td>0</td>\n",
       "    </tr>\n",
       "    <tr>\n",
       "      <th>3</th>\n",
       "      <td>2017-11-23 03:32:03</td>\n",
       "      <td>https://medium.com/@akwhitney/mathochism-the-j...</td>\n",
       "      <td>Mathochism: The joys of MOOCulus</td>\n",
       "      <td>One woman’s attempt to revisit the math that p...</td>\n",
       "      <td>AK Whitney</td>\n",
       "      <td>2016-02-01 22:09:57.203</td>\n",
       "      <td>medium</td>\n",
       "      <td>240</td>\n",
       "      <td>1</td>\n",
       "      <td>education mathematics calculus</td>\n",
       "      <td>0</td>\n",
       "    </tr>\n",
       "    <tr>\n",
       "      <th>4</th>\n",
       "      <td>2017-11-23 03:32:03</td>\n",
       "      <td>https://medium.com/@brianmmcguire/meditation-o...</td>\n",
       "      <td>Meditation on Calculus, Emptiness, and The Res...</td>\n",
       "      <td>Perugino (Pietro di Cristoforo Vannucci) (Ital...</td>\n",
       "      <td>Brian M. McGuire</td>\n",
       "      <td>2016-03-27 19:25:25.005</td>\n",
       "      <td>medium</td>\n",
       "      <td>180</td>\n",
       "      <td>2</td>\n",
       "      <td>easter calculus meditation</td>\n",
       "      <td>0</td>\n",
       "    </tr>\n",
       "  </tbody>\n",
       "</table>\n",
       "</div>"
      ],
      "text/plain": [
       "           fetch_date                                                url  \\\n",
       "0 2017-11-23 03:32:02  https://medium.com/@cnizzardini/linux-search-f...   \n",
       "1 2017-11-23 03:32:02  https://medium.com/nome-do-jogo/adeus-windows-...   \n",
       "2 2017-11-23 03:32:02  https://medium.com/security-thinking-cap/802-1...   \n",
       "3 2017-11-23 03:32:03  https://medium.com/@akwhitney/mathochism-the-j...   \n",
       "4 2017-11-23 03:32:03  https://medium.com/@brianmmcguire/meditation-o...   \n",
       "\n",
       "                                               title  \\\n",
       "0      Linux Search From Shell Using Grep Find Xargs   \n",
       "1                                      Adeus Windows   \n",
       "2                         802.11n Wireless-N devices   \n",
       "3                   Mathochism: The joys of MOOCulus   \n",
       "4  Meditation on Calculus, Emptiness, and The Res...   \n",
       "\n",
       "                                             content            author  \\\n",
       "0  The find command is used to find files in a Un...             Chris   \n",
       "1  Comecei minha carreira profissional com o Visu...     Carlos Brando   \n",
       "2  It is not out. Dlink and Netgear have some 802...   Eric Vanderburg   \n",
       "3  One woman’s attempt to revisit the math that p...        AK Whitney   \n",
       "4  Perugino (Pietro di Cristoforo Vannucci) (Ital...  Brian M. McGuire   \n",
       "\n",
       "           published_date publisher  estimate_time  likes  \\\n",
       "0 2007-06-04 18:37:45.000    medium              0      0   \n",
       "1 2007-10-01 00:00:00.000    medium            120      3   \n",
       "2 2006-05-02 22:09:57.000    medium              0      0   \n",
       "3 2016-02-01 22:09:57.203    medium            240      1   \n",
       "4 2016-03-27 19:25:25.005    medium            180      2   \n",
       "\n",
       "                             tags  comments  \n",
       "0           linux find grep xargs         0  \n",
       "1            windows ubuntu linux         0  \n",
       "2     dlink netgear wifi wireless         0  \n",
       "3  education mathematics calculus         0  \n",
       "4      easter calculus meditation         0  "
      ]
     },
     "execution_count": 77,
     "metadata": {},
     "output_type": "execute_result"
    }
   ],
   "source": [
    "df.head()"
   ]
  },
  {
   "cell_type": "code",
   "execution_count": 76,
   "metadata": {
    "scrolled": true
   },
   "outputs": [
    {
     "data": {
      "text/plain": [
       "fetch_date        datetime64[ns]\n",
       "url                       object\n",
       "title                     object\n",
       "content                   object\n",
       "author                    object\n",
       "published_date    datetime64[ns]\n",
       "publisher                 object\n",
       "estimate_time              int64\n",
       "likes                      int64\n",
       "tags                      object\n",
       "comments                   int64\n",
       "dtype: object"
      ]
     },
     "execution_count": 76,
     "metadata": {},
     "output_type": "execute_result"
    }
   ],
   "source": [
    "df.dtypes"
   ]
  },
  {
   "cell_type": "code",
   "execution_count": 75,
   "metadata": {},
   "outputs": [],
   "source": [
    "column_order = ['fetch_date', 'url', \n",
    "                'title', 'content', \n",
    "                'author', 'published_date', 'publisher', 'estimate_time', \n",
    "                'likes', 'tags', 'comments']\n",
    "df = df[column_order]\n",
    "df.sort_values(column_order, inplace=True)\n",
    "df.reset_index(drop=True, inplace=True)"
   ]
  },
  {
   "cell_type": "code",
   "execution_count": 9,
   "metadata": {},
   "outputs": [
    {
     "name": "stdout",
     "output_type": "stream",
     "text": [
      "CPU times: user 1min 27s, sys: 31.5 s, total: 1min 59s\n",
      "Wall time: 2min 17s\n"
     ]
    }
   ],
   "source": [
    "%time df.to_hdf('../../data/clean_articles.h5', 'df', mode='w', format='t', complevel=9)"
   ]
  },
  {
   "cell_type": "code",
   "execution_count": 32,
   "metadata": {},
   "outputs": [
    {
     "name": "stderr",
     "output_type": "stream",
     "text": [
      "\n"
     ]
    },
    {
     "name": "stdout",
     "output_type": "stream",
     "text": [
      " 43M\tclean_articles.h5\r\n"
     ]
    }
   ],
   "source": [
    "!du -sh clean_articles.h5"
   ]
  }
 ],
 "metadata": {
  "kernelspec": {
   "display_name": "Python 3",
   "language": "python",
   "name": "python3"
  },
  "language_info": {
   "codemirror_mode": {
    "name": "ipython",
    "version": 3
   },
   "file_extension": ".py",
   "mimetype": "text/x-python",
   "name": "python",
   "nbconvert_exporter": "python",
   "pygments_lexer": "ipython3",
   "version": "3.6.2"
  }
 },
 "nbformat": 4,
 "nbformat_minor": 2
}
